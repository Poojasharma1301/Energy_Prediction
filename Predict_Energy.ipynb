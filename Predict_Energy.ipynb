{
  "nbformat": 4,
  "nbformat_minor": 0,
  "metadata": {
    "colab": {
      "provenance": []
    },
    "kernelspec": {
      "name": "python3",
      "display_name": "Python 3"
    },
    "language_info": {
      "name": "python"
    }
  },
  "cells": [
    {
      "cell_type": "code",
      "execution_count": 24,
      "metadata": {
        "id": "52r2NI-nxR-2"
      },
      "outputs": [],
      "source": [
        "import pandas as pd\n",
        "import numpy as np"
      ]
    },
    {
      "cell_type": "code",
      "source": [
        "data=pd.read_csv('/content/Final_data.csv')"
      ],
      "metadata": {
        "id": "t6M4jxKl3wJB"
      },
      "execution_count": 25,
      "outputs": []
    },
    {
      "cell_type": "code",
      "source": [
        "data.head()"
      ],
      "metadata": {
        "colab": {
          "base_uri": "https://localhost:8080/",
          "height": 206
        },
        "id": "OQXZX85E4jDK",
        "outputId": "fed5b896-065b-489d-ddcb-7374dd8f7910"
      },
      "execution_count": 26,
      "outputs": [
        {
          "output_type": "execute_result",
          "data": {
            "text/plain": [
              "      Voltage   Current       power         energy  time_consumed\n",
              "0  222.978914  0.494288  110.215767  793553.524167         9000.0\n",
              "1  232.647672  0.353813   82.313746  592658.969515         9000.0\n",
              "2  230.521583  0.376275   86.739582  624524.989717         9000.0\n",
              "3  221.985400  0.391796   86.972920  626205.023643         9000.0\n",
              "4  230.969928  0.351758   81.245453  584967.258535         9000.0"
            ],
            "text/html": [
              "\n",
              "  <div id=\"df-95f4ef97-a7fc-43a1-95d8-976892c492b1\">\n",
              "    <div class=\"colab-df-container\">\n",
              "      <div>\n",
              "<style scoped>\n",
              "    .dataframe tbody tr th:only-of-type {\n",
              "        vertical-align: middle;\n",
              "    }\n",
              "\n",
              "    .dataframe tbody tr th {\n",
              "        vertical-align: top;\n",
              "    }\n",
              "\n",
              "    .dataframe thead th {\n",
              "        text-align: right;\n",
              "    }\n",
              "</style>\n",
              "<table border=\"1\" class=\"dataframe\">\n",
              "  <thead>\n",
              "    <tr style=\"text-align: right;\">\n",
              "      <th></th>\n",
              "      <th>Voltage</th>\n",
              "      <th>Current</th>\n",
              "      <th>power</th>\n",
              "      <th>energy</th>\n",
              "      <th>time_consumed</th>\n",
              "    </tr>\n",
              "  </thead>\n",
              "  <tbody>\n",
              "    <tr>\n",
              "      <th>0</th>\n",
              "      <td>222.978914</td>\n",
              "      <td>0.494288</td>\n",
              "      <td>110.215767</td>\n",
              "      <td>793553.524167</td>\n",
              "      <td>9000.0</td>\n",
              "    </tr>\n",
              "    <tr>\n",
              "      <th>1</th>\n",
              "      <td>232.647672</td>\n",
              "      <td>0.353813</td>\n",
              "      <td>82.313746</td>\n",
              "      <td>592658.969515</td>\n",
              "      <td>9000.0</td>\n",
              "    </tr>\n",
              "    <tr>\n",
              "      <th>2</th>\n",
              "      <td>230.521583</td>\n",
              "      <td>0.376275</td>\n",
              "      <td>86.739582</td>\n",
              "      <td>624524.989717</td>\n",
              "      <td>9000.0</td>\n",
              "    </tr>\n",
              "    <tr>\n",
              "      <th>3</th>\n",
              "      <td>221.985400</td>\n",
              "      <td>0.391796</td>\n",
              "      <td>86.972920</td>\n",
              "      <td>626205.023643</td>\n",
              "      <td>9000.0</td>\n",
              "    </tr>\n",
              "    <tr>\n",
              "      <th>4</th>\n",
              "      <td>230.969928</td>\n",
              "      <td>0.351758</td>\n",
              "      <td>81.245453</td>\n",
              "      <td>584967.258535</td>\n",
              "      <td>9000.0</td>\n",
              "    </tr>\n",
              "  </tbody>\n",
              "</table>\n",
              "</div>\n",
              "      <button class=\"colab-df-convert\" onclick=\"convertToInteractive('df-95f4ef97-a7fc-43a1-95d8-976892c492b1')\"\n",
              "              title=\"Convert this dataframe to an interactive table.\"\n",
              "              style=\"display:none;\">\n",
              "        \n",
              "  <svg xmlns=\"http://www.w3.org/2000/svg\" height=\"24px\"viewBox=\"0 0 24 24\"\n",
              "       width=\"24px\">\n",
              "    <path d=\"M0 0h24v24H0V0z\" fill=\"none\"/>\n",
              "    <path d=\"M18.56 5.44l.94 2.06.94-2.06 2.06-.94-2.06-.94-.94-2.06-.94 2.06-2.06.94zm-11 1L8.5 8.5l.94-2.06 2.06-.94-2.06-.94L8.5 2.5l-.94 2.06-2.06.94zm10 10l.94 2.06.94-2.06 2.06-.94-2.06-.94-.94-2.06-.94 2.06-2.06.94z\"/><path d=\"M17.41 7.96l-1.37-1.37c-.4-.4-.92-.59-1.43-.59-.52 0-1.04.2-1.43.59L10.3 9.45l-7.72 7.72c-.78.78-.78 2.05 0 2.83L4 21.41c.39.39.9.59 1.41.59.51 0 1.02-.2 1.41-.59l7.78-7.78 2.81-2.81c.8-.78.8-2.07 0-2.86zM5.41 20L4 18.59l7.72-7.72 1.47 1.35L5.41 20z\"/>\n",
              "  </svg>\n",
              "      </button>\n",
              "      \n",
              "  <style>\n",
              "    .colab-df-container {\n",
              "      display:flex;\n",
              "      flex-wrap:wrap;\n",
              "      gap: 12px;\n",
              "    }\n",
              "\n",
              "    .colab-df-convert {\n",
              "      background-color: #E8F0FE;\n",
              "      border: none;\n",
              "      border-radius: 50%;\n",
              "      cursor: pointer;\n",
              "      display: none;\n",
              "      fill: #1967D2;\n",
              "      height: 32px;\n",
              "      padding: 0 0 0 0;\n",
              "      width: 32px;\n",
              "    }\n",
              "\n",
              "    .colab-df-convert:hover {\n",
              "      background-color: #E2EBFA;\n",
              "      box-shadow: 0px 1px 2px rgba(60, 64, 67, 0.3), 0px 1px 3px 1px rgba(60, 64, 67, 0.15);\n",
              "      fill: #174EA6;\n",
              "    }\n",
              "\n",
              "    [theme=dark] .colab-df-convert {\n",
              "      background-color: #3B4455;\n",
              "      fill: #D2E3FC;\n",
              "    }\n",
              "\n",
              "    [theme=dark] .colab-df-convert:hover {\n",
              "      background-color: #434B5C;\n",
              "      box-shadow: 0px 1px 3px 1px rgba(0, 0, 0, 0.15);\n",
              "      filter: drop-shadow(0px 1px 2px rgba(0, 0, 0, 0.3));\n",
              "      fill: #FFFFFF;\n",
              "    }\n",
              "  </style>\n",
              "\n",
              "      <script>\n",
              "        const buttonEl =\n",
              "          document.querySelector('#df-95f4ef97-a7fc-43a1-95d8-976892c492b1 button.colab-df-convert');\n",
              "        buttonEl.style.display =\n",
              "          google.colab.kernel.accessAllowed ? 'block' : 'none';\n",
              "\n",
              "        async function convertToInteractive(key) {\n",
              "          const element = document.querySelector('#df-95f4ef97-a7fc-43a1-95d8-976892c492b1');\n",
              "          const dataTable =\n",
              "            await google.colab.kernel.invokeFunction('convertToInteractive',\n",
              "                                                     [key], {});\n",
              "          if (!dataTable) return;\n",
              "\n",
              "          const docLinkHtml = 'Like what you see? Visit the ' +\n",
              "            '<a target=\"_blank\" href=https://colab.research.google.com/notebooks/data_table.ipynb>data table notebook</a>'\n",
              "            + ' to learn more about interactive tables.';\n",
              "          element.innerHTML = '';\n",
              "          dataTable['output_type'] = 'display_data';\n",
              "          await google.colab.output.renderOutput(dataTable, element);\n",
              "          const docLink = document.createElement('div');\n",
              "          docLink.innerHTML = docLinkHtml;\n",
              "          element.appendChild(docLink);\n",
              "        }\n",
              "      </script>\n",
              "    </div>\n",
              "  </div>\n",
              "  "
            ]
          },
          "metadata": {},
          "execution_count": 26
        }
      ]
    },
    {
      "cell_type": "code",
      "source": [
        "data = data.drop('time_consumed', axis=1)"
      ],
      "metadata": {
        "id": "Zx3_M_OU8z1U"
      },
      "execution_count": 27,
      "outputs": []
    },
    {
      "cell_type": "code",
      "source": [
        "data.head()"
      ],
      "metadata": {
        "colab": {
          "base_uri": "https://localhost:8080/",
          "height": 206
        },
        "id": "Rsgok7Cn9I6W",
        "outputId": "7faea1e5-5dc0-44c4-a2c9-db446b7fb9c1"
      },
      "execution_count": 28,
      "outputs": [
        {
          "output_type": "execute_result",
          "data": {
            "text/plain": [
              "      Voltage   Current       power         energy\n",
              "0  222.978914  0.494288  110.215767  793553.524167\n",
              "1  232.647672  0.353813   82.313746  592658.969515\n",
              "2  230.521583  0.376275   86.739582  624524.989717\n",
              "3  221.985400  0.391796   86.972920  626205.023643\n",
              "4  230.969928  0.351758   81.245453  584967.258535"
            ],
            "text/html": [
              "\n",
              "  <div id=\"df-fa8e0754-de24-42a3-b854-f9f6bcb03033\">\n",
              "    <div class=\"colab-df-container\">\n",
              "      <div>\n",
              "<style scoped>\n",
              "    .dataframe tbody tr th:only-of-type {\n",
              "        vertical-align: middle;\n",
              "    }\n",
              "\n",
              "    .dataframe tbody tr th {\n",
              "        vertical-align: top;\n",
              "    }\n",
              "\n",
              "    .dataframe thead th {\n",
              "        text-align: right;\n",
              "    }\n",
              "</style>\n",
              "<table border=\"1\" class=\"dataframe\">\n",
              "  <thead>\n",
              "    <tr style=\"text-align: right;\">\n",
              "      <th></th>\n",
              "      <th>Voltage</th>\n",
              "      <th>Current</th>\n",
              "      <th>power</th>\n",
              "      <th>energy</th>\n",
              "    </tr>\n",
              "  </thead>\n",
              "  <tbody>\n",
              "    <tr>\n",
              "      <th>0</th>\n",
              "      <td>222.978914</td>\n",
              "      <td>0.494288</td>\n",
              "      <td>110.215767</td>\n",
              "      <td>793553.524167</td>\n",
              "    </tr>\n",
              "    <tr>\n",
              "      <th>1</th>\n",
              "      <td>232.647672</td>\n",
              "      <td>0.353813</td>\n",
              "      <td>82.313746</td>\n",
              "      <td>592658.969515</td>\n",
              "    </tr>\n",
              "    <tr>\n",
              "      <th>2</th>\n",
              "      <td>230.521583</td>\n",
              "      <td>0.376275</td>\n",
              "      <td>86.739582</td>\n",
              "      <td>624524.989717</td>\n",
              "    </tr>\n",
              "    <tr>\n",
              "      <th>3</th>\n",
              "      <td>221.985400</td>\n",
              "      <td>0.391796</td>\n",
              "      <td>86.972920</td>\n",
              "      <td>626205.023643</td>\n",
              "    </tr>\n",
              "    <tr>\n",
              "      <th>4</th>\n",
              "      <td>230.969928</td>\n",
              "      <td>0.351758</td>\n",
              "      <td>81.245453</td>\n",
              "      <td>584967.258535</td>\n",
              "    </tr>\n",
              "  </tbody>\n",
              "</table>\n",
              "</div>\n",
              "      <button class=\"colab-df-convert\" onclick=\"convertToInteractive('df-fa8e0754-de24-42a3-b854-f9f6bcb03033')\"\n",
              "              title=\"Convert this dataframe to an interactive table.\"\n",
              "              style=\"display:none;\">\n",
              "        \n",
              "  <svg xmlns=\"http://www.w3.org/2000/svg\" height=\"24px\"viewBox=\"0 0 24 24\"\n",
              "       width=\"24px\">\n",
              "    <path d=\"M0 0h24v24H0V0z\" fill=\"none\"/>\n",
              "    <path d=\"M18.56 5.44l.94 2.06.94-2.06 2.06-.94-2.06-.94-.94-2.06-.94 2.06-2.06.94zm-11 1L8.5 8.5l.94-2.06 2.06-.94-2.06-.94L8.5 2.5l-.94 2.06-2.06.94zm10 10l.94 2.06.94-2.06 2.06-.94-2.06-.94-.94-2.06-.94 2.06-2.06.94z\"/><path d=\"M17.41 7.96l-1.37-1.37c-.4-.4-.92-.59-1.43-.59-.52 0-1.04.2-1.43.59L10.3 9.45l-7.72 7.72c-.78.78-.78 2.05 0 2.83L4 21.41c.39.39.9.59 1.41.59.51 0 1.02-.2 1.41-.59l7.78-7.78 2.81-2.81c.8-.78.8-2.07 0-2.86zM5.41 20L4 18.59l7.72-7.72 1.47 1.35L5.41 20z\"/>\n",
              "  </svg>\n",
              "      </button>\n",
              "      \n",
              "  <style>\n",
              "    .colab-df-container {\n",
              "      display:flex;\n",
              "      flex-wrap:wrap;\n",
              "      gap: 12px;\n",
              "    }\n",
              "\n",
              "    .colab-df-convert {\n",
              "      background-color: #E8F0FE;\n",
              "      border: none;\n",
              "      border-radius: 50%;\n",
              "      cursor: pointer;\n",
              "      display: none;\n",
              "      fill: #1967D2;\n",
              "      height: 32px;\n",
              "      padding: 0 0 0 0;\n",
              "      width: 32px;\n",
              "    }\n",
              "\n",
              "    .colab-df-convert:hover {\n",
              "      background-color: #E2EBFA;\n",
              "      box-shadow: 0px 1px 2px rgba(60, 64, 67, 0.3), 0px 1px 3px 1px rgba(60, 64, 67, 0.15);\n",
              "      fill: #174EA6;\n",
              "    }\n",
              "\n",
              "    [theme=dark] .colab-df-convert {\n",
              "      background-color: #3B4455;\n",
              "      fill: #D2E3FC;\n",
              "    }\n",
              "\n",
              "    [theme=dark] .colab-df-convert:hover {\n",
              "      background-color: #434B5C;\n",
              "      box-shadow: 0px 1px 3px 1px rgba(0, 0, 0, 0.15);\n",
              "      filter: drop-shadow(0px 1px 2px rgba(0, 0, 0, 0.3));\n",
              "      fill: #FFFFFF;\n",
              "    }\n",
              "  </style>\n",
              "\n",
              "      <script>\n",
              "        const buttonEl =\n",
              "          document.querySelector('#df-fa8e0754-de24-42a3-b854-f9f6bcb03033 button.colab-df-convert');\n",
              "        buttonEl.style.display =\n",
              "          google.colab.kernel.accessAllowed ? 'block' : 'none';\n",
              "\n",
              "        async function convertToInteractive(key) {\n",
              "          const element = document.querySelector('#df-fa8e0754-de24-42a3-b854-f9f6bcb03033');\n",
              "          const dataTable =\n",
              "            await google.colab.kernel.invokeFunction('convertToInteractive',\n",
              "                                                     [key], {});\n",
              "          if (!dataTable) return;\n",
              "\n",
              "          const docLinkHtml = 'Like what you see? Visit the ' +\n",
              "            '<a target=\"_blank\" href=https://colab.research.google.com/notebooks/data_table.ipynb>data table notebook</a>'\n",
              "            + ' to learn more about interactive tables.';\n",
              "          element.innerHTML = '';\n",
              "          dataTable['output_type'] = 'display_data';\n",
              "          await google.colab.output.renderOutput(dataTable, element);\n",
              "          const docLink = document.createElement('div');\n",
              "          docLink.innerHTML = docLinkHtml;\n",
              "          element.appendChild(docLink);\n",
              "        }\n",
              "      </script>\n",
              "    </div>\n",
              "  </div>\n",
              "  "
            ]
          },
          "metadata": {},
          "execution_count": 28
        }
      ]
    },
    {
      "cell_type": "code",
      "source": [
        "from sklearn.model_selection import train_test_split\n",
        "# select the features and target\n",
        "X = data[['Voltage', 'Current', 'power']]\n",
        "y = data['energy']"
      ],
      "metadata": {
        "id": "X-EDWiJs6b8L"
      },
      "execution_count": 30,
      "outputs": []
    },
    {
      "cell_type": "code",
      "source": [
        "# split the data into a training set and a test set\n",
        "X_train, X_test, y_train, y_test = train_test_split(X, y, test_size=0.2, random_state=42)"
      ],
      "metadata": {
        "id": "fVgtqFZ26cBD"
      },
      "execution_count": 31,
      "outputs": []
    },
    {
      "cell_type": "code",
      "source": [
        "# print the shapes of the resulting arrays\n",
        "print(\"X_train shape:\", X_train.shape)\n",
        "print(\"X_test shape:\", X_test.shape)\n",
        "print(\"y_train shape:\", y_train.shape)\n",
        "print(\"y_test shape:\", y_test.shape)"
      ],
      "metadata": {
        "colab": {
          "base_uri": "https://localhost:8080/"
        },
        "id": "0ZF4nRHQ66TD",
        "outputId": "d11d7179-9a20-4443-9dd2-9744209989b5"
      },
      "execution_count": 32,
      "outputs": [
        {
          "output_type": "stream",
          "name": "stdout",
          "text": [
            "X_train shape: (800, 3)\n",
            "X_test shape: (200, 3)\n",
            "y_train shape: (800,)\n",
            "y_test shape: (200,)\n"
          ]
        }
      ]
    },
    {
      "cell_type": "code",
      "source": [
        "from sklearn.linear_model import LinearRegression\n",
        "# create a linear regression model\n",
        "model = LinearRegression()\n",
        "\n",
        "# fit the model to the training data\n",
        "model.fit(X_train, y_train)\n",
        "\n",
        "# make predictions on the test data\n",
        "y_pred = model.predict(X_test)\n",
        "\n",
        "# print the predicted values\n",
        "print(y_pred)"
      ],
      "metadata": {
        "colab": {
          "base_uri": "https://localhost:8080/"
        },
        "id": "2CK09Uvr4kQx",
        "outputId": "9b19c844-2ab3-4d03-810e-d8b66dc3d274"
      },
      "execution_count": 33,
      "outputs": [
        {
          "output_type": "stream",
          "name": "stdout",
          "text": [
            "[725546.306607   768256.69553545 793312.0462909  716203.09239038\n",
            " 621253.27130567 711163.62846354 710630.7592852  769415.11036975\n",
            " 650739.43192366 761087.67928945 600492.11047593 637353.00555458\n",
            " 790813.03336366 623470.18429887 774081.80323983 792787.45402199\n",
            " 811006.46402723 668752.6884279  795452.23186954 649287.66745542\n",
            " 649705.04779138 619486.1016363  790779.15982126 615722.74083416\n",
            " 770925.57396011 670786.79374066 779424.24167579 618610.88761896\n",
            " 639155.78593317 707106.46339558 749951.74747464 669898.22739296\n",
            " 641532.66731052 719851.22069871 672278.65726844 672725.106751\n",
            " 659909.75546122 812279.81768213 663863.36471784 720329.29803633\n",
            " 801733.57628019 691698.05487975 627424.80912427 612790.47315056\n",
            " 664243.19783891 625877.35571023 749013.67852902 669139.78148016\n",
            " 614852.22046483 661875.69149497 593380.40692065 693554.60478077\n",
            " 587400.21505728 777635.04357633 730501.72803902 619233.79547781\n",
            " 694662.41572166 792180.67537956 685300.94634787 847042.02253769\n",
            " 699370.04371059 661260.50091071 646520.88474692 748016.07281057\n",
            " 735658.87618414 644245.93003631 641263.13017376 796028.33929717\n",
            " 825381.29033198 773423.81358234 733476.32659518 771082.54521252\n",
            " 757655.15826886 588142.5652334  764609.97433219 629733.33525461\n",
            " 757073.63724176 747951.87706913 636719.97571535 788913.76063886\n",
            " 774636.21828298 693967.94142488 845448.19037467 598657.73499024\n",
            " 716210.10085903 702775.43608953 717120.83928358 794010.73884796\n",
            " 668735.66702387 643950.87286467 641327.31677036 720118.44541078\n",
            " 613780.64451187 608350.35127284 654356.87226289 734725.83008984\n",
            " 724066.33108272 562007.62896711 722918.49027175 744062.4329122\n",
            " 604926.27038922 698625.29261283 761128.25042604 782936.41492966\n",
            " 776668.08902    738840.22695827 579806.22231849 638111.93861683\n",
            " 699100.039377   588923.97526223 745951.91573867 822199.03404375\n",
            " 647869.72794328 788251.29148654 770273.87328209 686767.56854946\n",
            " 791037.12785341 634898.35980613 831629.46960502 636060.82935068\n",
            " 721681.84159796 615172.96847716 575212.10949264 750346.70384432\n",
            " 665716.35876813 799100.6847958  787140.37025707 824426.34887915\n",
            " 793390.13284752 600261.46150371 769106.31539493 596772.66995397\n",
            " 760064.73802728 732260.38036723 597291.61188378 678802.22361858\n",
            " 823274.19353332 733772.45984997 795127.17234875 820354.88023265\n",
            " 799146.45828534 770511.25793842 743108.46264283 739705.50176955\n",
            " 624561.23793916 837466.47423724 799910.54309089 747799.28281312\n",
            " 839408.77410165 669593.78581929 712979.35081521 584136.24287478\n",
            " 590183.2582313  818440.05395157 852654.50787701 749694.08954489\n",
            " 600286.96524857 597680.24237297 641779.39476117 604163.78972841\n",
            " 585159.03484106 786065.39196732 699793.11193683 629214.99218774\n",
            " 662985.20930079 694303.83909601 751592.96257359 708162.51126447\n",
            " 769380.98918125 610077.53306953 804421.68764755 691397.89666932\n",
            " 668581.29626004 654884.44107537 567202.11221782 677578.47837367\n",
            " 605788.70921957 672277.23461678 698118.5823512  751141.33623946\n",
            " 741869.76754638 719405.38058481 842706.42231329 654296.95822005\n",
            " 694453.67238045 675361.2306645  616101.45007111 716077.10316675\n",
            " 686098.6990039  810412.93750902 617018.17492983 750532.06180679\n",
            " 645167.61712536 773508.69995293 789618.65782254 657453.38204093\n",
            " 647416.3559292  733795.21548565 773702.76538333 737680.09206805]\n"
          ]
        }
      ]
    },
    {
      "cell_type": "code",
      "source": [
        "# prompt the user to enter the input values\n",
        "Voltage = float(input(\"Enter value of voltage: \"))\n",
        "Current = float(input(\"Enter value of current: \"))\n",
        "power=Voltage*Current\n",
        "# define the power factor and time values\n",
        "power_factor = 0.8\n",
        "time = 2  # in hours (h)"
      ],
      "metadata": {
        "colab": {
          "base_uri": "https://localhost:8080/"
        },
        "id": "DUFSWxtK6_JY",
        "outputId": "c6134b13-38be-480d-b554-65ec25e97958"
      },
      "execution_count": 42,
      "outputs": [
        {
          "name": "stdout",
          "output_type": "stream",
          "text": [
            "Enter value of voltage: 222.978914\n",
            "Enter value of current: 0.494288\n"
          ]
        }
      ]
    },
    {
      "cell_type": "code",
      "source": [
        "# create a DataFrame with the input values\n",
        "input_data = pd.DataFrame({\n",
        "    'Voltage': [Voltage],\n",
        "    'Current': [Current],\n",
        "    'power':[power],\n",
        "})\n"
      ],
      "metadata": {
        "id": "LO2R_Squ7-Sl"
      },
      "execution_count": 43,
      "outputs": []
    },
    {
      "cell_type": "code",
      "source": [
        "# make a prediction using the input data\n",
        "prediction = model.predict(input_data)\n",
        "# print the prediction\n",
        "print(\"Prediction:Consumed Energy\", prediction[0])"
      ],
      "metadata": {
        "colab": {
          "base_uri": "https://localhost:8080/"
        },
        "id": "KoUE2Ysn7_I2",
        "outputId": "d876580b-596c-4282-ffff-8195bab0ee25"
      },
      "execution_count": 44,
      "outputs": [
        {
          "output_type": "stream",
          "name": "stdout",
          "text": [
            "Prediction:Consumed Energy 793553.7703912702\n"
          ]
        }
      ]
    },
    {
      "cell_type": "code",
      "source": [],
      "metadata": {
        "id": "KKNa2gRwKoPK"
      },
      "execution_count": null,
      "outputs": []
    }
  ]
}